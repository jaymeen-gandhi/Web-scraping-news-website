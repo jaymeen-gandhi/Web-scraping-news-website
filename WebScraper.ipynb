{
 "cells": [
  {
   "cell_type": "code",
   "execution_count": 101,
   "metadata": {},
   "outputs": [],
   "source": [
    "#1.\n",
    "import requests\n",
    "import pandas as pd\n",
    "import numpy\n",
    "import time\n",
    "import threading\n",
    "from selenium.common.exceptions import ElementNotInteractableException"
   ]
  },
  {
   "cell_type": "code",
   "execution_count": 102,
   "metadata": {},
   "outputs": [
    {
     "data": {
      "text/plain": [
       "<Response [200]>"
      ]
     },
     "execution_count": 102,
     "metadata": {},
     "output_type": "execute_result"
    }
   ],
   "source": [
    "url='http://www.inshorts.com/en/read'\n",
    "response = requests.get(url)\n",
    "response"
   ]
  },
  {
   "cell_type": "code",
   "execution_count": 103,
   "metadata": {},
   "outputs": [],
   "source": [
    "import selenium\n",
    "from selenium.webdriver import Firefox"
   ]
  },
  {
   "cell_type": "code",
   "execution_count": 104,
   "metadata": {},
   "outputs": [],
   "source": [
    "browser=Firefox()\n",
    "browser.get(url)"
   ]
  },
  {
   "cell_type": "code",
   "execution_count": 105,
   "metadata": {},
   "outputs": [
    {
     "name": "stdout",
     "output_type": "stream",
     "text": [
      "Message: Element <div id=\"load-more-btn\" class=\"clickable unselectable load-more z-depth-1 hoverable\"> could not be scrolled into view\n",
      "\n",
      "Please hit Okay and continue by pressing enter.\n",
      "Message: Element <div id=\"load-more-btn\" class=\"clickable unselectable load-more z-depth-1 hoverable\"> could not be scrolled into view\n",
      "\n",
      "Please hit Okay and continue by pressing enter.\n",
      "Message: Element <div id=\"load-more-btn\" class=\"clickable unselectable load-more z-depth-1 hoverable\"> could not be scrolled into view\n",
      "\n",
      "Please hit Okay and continue by pressing enter.\n",
      "Message: Element <div id=\"load-more-btn\" class=\"clickable unselectable load-more z-depth-1 hoverable\"> could not be scrolled into view\n",
      "\n",
      "Please hit Okay and continue by pressing enter.\n",
      "Message: Element <div id=\"load-more-btn\" class=\"clickable unselectable load-more z-depth-1 hoverable\"> could not be scrolled into view\n",
      "\n",
      "Please hit Okay and continue by pressing enter.\n",
      "Message: Element <div id=\"load-more-btn\" class=\"clickable unselectable load-more z-depth-1 hoverable\"> could not be scrolled into view\n",
      "\n",
      "Please hit Okay and continue by pressing enter.\n",
      "Message: Element <div id=\"load-more-btn\" class=\"clickable unselectable load-more z-depth-1 hoverable\"> could not be scrolled into view\n",
      "\n",
      "Please hit Okay and continue by pressing enter.\n",
      "Message: Element <div id=\"load-more-btn\" class=\"clickable unselectable load-more z-depth-1 hoverable\"> could not be scrolled into view\n",
      "\n",
      "Please hit Okay and continue by pressing enter.\n",
      "Message: Element <div id=\"load-more-btn\" class=\"clickable unselectable load-more z-depth-1 hoverable\"> could not be scrolled into view\n",
      "\n",
      "Please hit Okay and continue by pressing enter.\n",
      "Message: Element <div id=\"load-more-btn\" class=\"clickable unselectable load-more z-depth-1 hoverable\"> could not be scrolled into view\n",
      "\n",
      "Please hit Okay and continue by pressing enter.\n",
      "Message: Element <div id=\"load-more-btn\" class=\"clickable unselectable load-more z-depth-1 hoverable\"> could not be scrolled into view\n",
      "\n",
      "Please hit Okay and continue by pressing enter.\n",
      "Message: Element <div id=\"load-more-btn\" class=\"clickable unselectable load-more z-depth-1 hoverable\"> could not be scrolled into view\n",
      "\n",
      "Please hit Okay and continue by pressing enter.\n",
      "Message: Element <div id=\"load-more-btn\" class=\"clickable unselectable load-more z-depth-1 hoverable\"> could not be scrolled into view\n",
      "\n",
      "Please hit Okay and continue by pressing enter.\n"
     ]
    },
    {
     "ename": "WebDriverException",
     "evalue": "Message: Failed to convert data to an object\n",
     "output_type": "error",
     "traceback": [
      "\u001b[1;31m---------------------------------------------------------------------------\u001b[0m",
      "\u001b[1;31mWebDriverException\u001b[0m                        Traceback (most recent call last)",
      "\u001b[1;32m<ipython-input-105-90995bdff036>\u001b[0m in \u001b[0;36m<module>\u001b[1;34m\u001b[0m\n\u001b[0;32m      1\u001b[0m \u001b[1;32mfor\u001b[0m \u001b[0mi\u001b[0m \u001b[1;32min\u001b[0m \u001b[0mrange\u001b[0m\u001b[1;33m(\u001b[0m\u001b[1;36m0\u001b[0m\u001b[1;33m,\u001b[0m \u001b[1;36m2800\u001b[0m\u001b[1;33m)\u001b[0m\u001b[1;33m:\u001b[0m\u001b[1;33m\u001b[0m\u001b[1;33m\u001b[0m\u001b[0m\n\u001b[0;32m      2\u001b[0m     \u001b[1;32mtry\u001b[0m\u001b[1;33m:\u001b[0m\u001b[1;33m\u001b[0m\u001b[1;33m\u001b[0m\u001b[0m\n\u001b[1;32m----> 3\u001b[1;33m         \u001b[0mbrowser\u001b[0m\u001b[1;33m.\u001b[0m\u001b[0mfind_element_by_tag_name\u001b[0m\u001b[1;33m(\u001b[0m\u001b[1;34m'div[id=\"load-more-btn\"]'\u001b[0m\u001b[1;33m)\u001b[0m\u001b[1;33m.\u001b[0m\u001b[0mclick\u001b[0m\u001b[1;33m(\u001b[0m\u001b[1;33m)\u001b[0m\u001b[1;33m\u001b[0m\u001b[1;33m\u001b[0m\u001b[0m\n\u001b[0m\u001b[0;32m      4\u001b[0m         \u001b[0mtime\u001b[0m\u001b[1;33m.\u001b[0m\u001b[0msleep\u001b[0m\u001b[1;33m(\u001b[0m\u001b[1;36m1.0\u001b[0m\u001b[1;33m)\u001b[0m\u001b[1;33m\u001b[0m\u001b[1;33m\u001b[0m\u001b[0m\n\u001b[0;32m      5\u001b[0m     \u001b[1;32mexcept\u001b[0m \u001b[0mElementNotInteractableException\u001b[0m \u001b[1;32mas\u001b[0m \u001b[0me\u001b[0m\u001b[1;33m:\u001b[0m\u001b[1;33m\u001b[0m\u001b[1;33m\u001b[0m\u001b[0m\n",
      "\u001b[1;32m~\\anaconda3\\lib\\site-packages\\selenium\\webdriver\\remote\\webdriver.py\u001b[0m in \u001b[0;36mfind_element_by_tag_name\u001b[1;34m(self, name)\u001b[0m\n\u001b[0;32m    528\u001b[0m             \u001b[0melement\u001b[0m \u001b[1;33m=\u001b[0m \u001b[0mdriver\u001b[0m\u001b[1;33m.\u001b[0m\u001b[0mfind_element_by_tag_name\u001b[0m\u001b[1;33m(\u001b[0m\u001b[1;34m'h1'\u001b[0m\u001b[1;33m)\u001b[0m\u001b[1;33m\u001b[0m\u001b[1;33m\u001b[0m\u001b[0m\n\u001b[0;32m    529\u001b[0m         \"\"\"\n\u001b[1;32m--> 530\u001b[1;33m         \u001b[1;32mreturn\u001b[0m \u001b[0mself\u001b[0m\u001b[1;33m.\u001b[0m\u001b[0mfind_element\u001b[0m\u001b[1;33m(\u001b[0m\u001b[0mby\u001b[0m\u001b[1;33m=\u001b[0m\u001b[0mBy\u001b[0m\u001b[1;33m.\u001b[0m\u001b[0mTAG_NAME\u001b[0m\u001b[1;33m,\u001b[0m \u001b[0mvalue\u001b[0m\u001b[1;33m=\u001b[0m\u001b[0mname\u001b[0m\u001b[1;33m)\u001b[0m\u001b[1;33m\u001b[0m\u001b[1;33m\u001b[0m\u001b[0m\n\u001b[0m\u001b[0;32m    531\u001b[0m \u001b[1;33m\u001b[0m\u001b[0m\n\u001b[0;32m    532\u001b[0m     \u001b[1;32mdef\u001b[0m \u001b[0mfind_elements_by_tag_name\u001b[0m\u001b[1;33m(\u001b[0m\u001b[0mself\u001b[0m\u001b[1;33m,\u001b[0m \u001b[0mname\u001b[0m\u001b[1;33m)\u001b[0m\u001b[1;33m:\u001b[0m\u001b[1;33m\u001b[0m\u001b[1;33m\u001b[0m\u001b[0m\n",
      "\u001b[1;32m~\\anaconda3\\lib\\site-packages\\selenium\\webdriver\\remote\\webdriver.py\u001b[0m in \u001b[0;36mfind_element\u001b[1;34m(self, by, value)\u001b[0m\n\u001b[0;32m    976\u001b[0m         return self.execute(Command.FIND_ELEMENT, {\n\u001b[0;32m    977\u001b[0m             \u001b[1;34m'using'\u001b[0m\u001b[1;33m:\u001b[0m \u001b[0mby\u001b[0m\u001b[1;33m,\u001b[0m\u001b[1;33m\u001b[0m\u001b[1;33m\u001b[0m\u001b[0m\n\u001b[1;32m--> 978\u001b[1;33m             'value': value})['value']\n\u001b[0m\u001b[0;32m    979\u001b[0m \u001b[1;33m\u001b[0m\u001b[0m\n\u001b[0;32m    980\u001b[0m     \u001b[1;32mdef\u001b[0m \u001b[0mfind_elements\u001b[0m\u001b[1;33m(\u001b[0m\u001b[0mself\u001b[0m\u001b[1;33m,\u001b[0m \u001b[0mby\u001b[0m\u001b[1;33m=\u001b[0m\u001b[0mBy\u001b[0m\u001b[1;33m.\u001b[0m\u001b[0mID\u001b[0m\u001b[1;33m,\u001b[0m \u001b[0mvalue\u001b[0m\u001b[1;33m=\u001b[0m\u001b[1;32mNone\u001b[0m\u001b[1;33m)\u001b[0m\u001b[1;33m:\u001b[0m\u001b[1;33m\u001b[0m\u001b[1;33m\u001b[0m\u001b[0m\n",
      "\u001b[1;32m~\\anaconda3\\lib\\site-packages\\selenium\\webdriver\\remote\\webdriver.py\u001b[0m in \u001b[0;36mexecute\u001b[1;34m(self, driver_command, params)\u001b[0m\n\u001b[0;32m    319\u001b[0m         \u001b[0mresponse\u001b[0m \u001b[1;33m=\u001b[0m \u001b[0mself\u001b[0m\u001b[1;33m.\u001b[0m\u001b[0mcommand_executor\u001b[0m\u001b[1;33m.\u001b[0m\u001b[0mexecute\u001b[0m\u001b[1;33m(\u001b[0m\u001b[0mdriver_command\u001b[0m\u001b[1;33m,\u001b[0m \u001b[0mparams\u001b[0m\u001b[1;33m)\u001b[0m\u001b[1;33m\u001b[0m\u001b[1;33m\u001b[0m\u001b[0m\n\u001b[0;32m    320\u001b[0m         \u001b[1;32mif\u001b[0m \u001b[0mresponse\u001b[0m\u001b[1;33m:\u001b[0m\u001b[1;33m\u001b[0m\u001b[1;33m\u001b[0m\u001b[0m\n\u001b[1;32m--> 321\u001b[1;33m             \u001b[0mself\u001b[0m\u001b[1;33m.\u001b[0m\u001b[0merror_handler\u001b[0m\u001b[1;33m.\u001b[0m\u001b[0mcheck_response\u001b[0m\u001b[1;33m(\u001b[0m\u001b[0mresponse\u001b[0m\u001b[1;33m)\u001b[0m\u001b[1;33m\u001b[0m\u001b[1;33m\u001b[0m\u001b[0m\n\u001b[0m\u001b[0;32m    322\u001b[0m             response['value'] = self._unwrap_value(\n\u001b[0;32m    323\u001b[0m                 response.get('value', None))\n",
      "\u001b[1;32m~\\anaconda3\\lib\\site-packages\\selenium\\webdriver\\remote\\errorhandler.py\u001b[0m in \u001b[0;36mcheck_response\u001b[1;34m(self, response)\u001b[0m\n\u001b[0;32m    240\u001b[0m                 \u001b[0malert_text\u001b[0m \u001b[1;33m=\u001b[0m \u001b[0mvalue\u001b[0m\u001b[1;33m[\u001b[0m\u001b[1;34m'alert'\u001b[0m\u001b[1;33m]\u001b[0m\u001b[1;33m.\u001b[0m\u001b[0mget\u001b[0m\u001b[1;33m(\u001b[0m\u001b[1;34m'text'\u001b[0m\u001b[1;33m)\u001b[0m\u001b[1;33m\u001b[0m\u001b[1;33m\u001b[0m\u001b[0m\n\u001b[0;32m    241\u001b[0m             \u001b[1;32mraise\u001b[0m \u001b[0mexception_class\u001b[0m\u001b[1;33m(\u001b[0m\u001b[0mmessage\u001b[0m\u001b[1;33m,\u001b[0m \u001b[0mscreen\u001b[0m\u001b[1;33m,\u001b[0m \u001b[0mstacktrace\u001b[0m\u001b[1;33m,\u001b[0m \u001b[0malert_text\u001b[0m\u001b[1;33m)\u001b[0m\u001b[1;33m\u001b[0m\u001b[1;33m\u001b[0m\u001b[0m\n\u001b[1;32m--> 242\u001b[1;33m         \u001b[1;32mraise\u001b[0m \u001b[0mexception_class\u001b[0m\u001b[1;33m(\u001b[0m\u001b[0mmessage\u001b[0m\u001b[1;33m,\u001b[0m \u001b[0mscreen\u001b[0m\u001b[1;33m,\u001b[0m \u001b[0mstacktrace\u001b[0m\u001b[1;33m)\u001b[0m\u001b[1;33m\u001b[0m\u001b[1;33m\u001b[0m\u001b[0m\n\u001b[0m\u001b[0;32m    243\u001b[0m \u001b[1;33m\u001b[0m\u001b[0m\n\u001b[0;32m    244\u001b[0m     \u001b[1;32mdef\u001b[0m \u001b[0m_value_or_default\u001b[0m\u001b[1;33m(\u001b[0m\u001b[0mself\u001b[0m\u001b[1;33m,\u001b[0m \u001b[0mobj\u001b[0m\u001b[1;33m,\u001b[0m \u001b[0mkey\u001b[0m\u001b[1;33m,\u001b[0m \u001b[0mdefault\u001b[0m\u001b[1;33m)\u001b[0m\u001b[1;33m:\u001b[0m\u001b[1;33m\u001b[0m\u001b[1;33m\u001b[0m\u001b[0m\n",
      "\u001b[1;31mWebDriverException\u001b[0m: Message: Failed to convert data to an object\n"
     ]
    }
   ],
   "source": [
    "for i in range(0, 2800):\n",
    "    try:\n",
    "        browser.find_element_by_tag_name('div[id=\"load-more-btn\"]').click()\n",
    "        time.sleep(1.0)\n",
    "    except ElementNotInteractableException as e:\n",
    "        input(f'{e}\\nPlease hit Okay and continue by pressing enter.')\n",
    "# pages=browser.find_element_by_tag_name('div[id=\"load-more-btn\"]')\n",
    "# for i in range(1,10000):\n",
    "#     if(pages==True):\n",
    "#         pages.click()\n",
    "\n",
    "# while condition:\n",
    "#     article=browser.find_elements_by_tag_name('div[class=\"news-card z-depth-1\"]')\n",
    "#     try:\n",
    "#         browser.find_element_by_tag_name('div[id=\"load-more-btn\"]').click()\n",
    "#     except:\n",
    "#         condition=False"
   ]
  },
  {
   "cell_type": "code",
   "execution_count": null,
   "metadata": {},
   "outputs": [],
   "source": [
    "article=browser.find_elements_by_tag_name('div[class=\"news-card z-depth-1\"]')\n"
   ]
  },
  {
   "cell_type": "code",
   "execution_count": 94,
   "metadata": {},
   "outputs": [],
   "source": [
    "\n",
    "for a_article in article:\n",
    "    Url_list = a_article.find_elements_by_tag_name('a[class=\"clickable\"]')[0].get_attribute('href')\n",
    "    headline = a_article.find_elements_by_tag_name('span[itemprop=\"headline\"]')[0].text\n",
    "                \n",
    "    author = a_article.find_element_by_tag_name('span[class=\"author\"]').text\n",
    "    abstract = a_article.find_element_by_tag_name('div[class=\"news-card-content news-right-box\"]').text\n",
    "        \n",
    "    \n",
    "    result = [Url_list,headline,author,abstract]\n",
    "    all_the_articles.append({'Article Link':Url_list,'Authors':author,'Headline':headline,'Abstract':abstract})\n",
    "    \n",
    "               "
   ]
  },
  {
   "cell_type": "code",
   "execution_count": 95,
   "metadata": {},
   "outputs": [],
   "source": [
    "all_articles_final=pd.DataFrame(all_the_articles)"
   ]
  },
  {
   "cell_type": "code",
   "execution_count": 96,
   "metadata": {},
   "outputs": [
    {
     "data": {
      "text/plain": [
       "448"
      ]
     },
     "execution_count": 96,
     "metadata": {},
     "output_type": "execute_result"
    }
   ],
   "source": [
    "len(all_articles_final)"
   ]
  },
  {
   "cell_type": "code",
   "execution_count": 37,
   "metadata": {
    "scrolled": true
   },
   "outputs": [
    {
     "data": {
      "text/html": [
       "<div>\n",
       "<style scoped>\n",
       "    .dataframe tbody tr th:only-of-type {\n",
       "        vertical-align: middle;\n",
       "    }\n",
       "\n",
       "    .dataframe tbody tr th {\n",
       "        vertical-align: top;\n",
       "    }\n",
       "\n",
       "    .dataframe thead th {\n",
       "        text-align: right;\n",
       "    }\n",
       "</style>\n",
       "<table border=\"1\" class=\"dataframe\">\n",
       "  <thead>\n",
       "    <tr style=\"text-align: right;\">\n",
       "      <th></th>\n",
       "      <th>Article Link</th>\n",
       "      <th>Authors</th>\n",
       "      <th>Headline</th>\n",
       "      <th>Abstract</th>\n",
       "    </tr>\n",
       "  </thead>\n",
       "  <tbody>\n",
       "    <tr>\n",
       "      <th>0</th>\n",
       "      <td>http://www.inshorts.com/en/news/data-aspirants...</td>\n",
       "      <td>Roshan Gupta</td>\n",
       "      <td>Data aspirants can start their learning journe...</td>\n",
       "      <td>This festive season, online higher education c...</td>\n",
       "    </tr>\n",
       "    <tr>\n",
       "      <th>1</th>\n",
       "      <td>http://www.inshorts.com/en/news/this-claim-is-...</td>\n",
       "      <td>Pragya Swastik</td>\n",
       "      <td>'This claim is disputed' warning on Trump's tw...</td>\n",
       "      <td>Twitter's 'This claim is disputed' warning on ...</td>\n",
       "    </tr>\n",
       "    <tr>\n",
       "      <th>2</th>\n",
       "      <td>http://www.inshorts.com/en/news/house-to-house...</td>\n",
       "      <td>Jigyasu Joshi</td>\n",
       "      <td>House to house survey will be done in Delhi co...</td>\n",
       "      <td>NITI Aayog member VK Paul on Tuesday said hous...</td>\n",
       "    </tr>\n",
       "    <tr>\n",
       "      <th>3</th>\n",
       "      <td>http://www.inshorts.com/en/news/jos-buttlers-1...</td>\n",
       "      <td>Anmol Sharma</td>\n",
       "      <td>Jos Buttler's 18-month-old daughter interrupts...</td>\n",
       "      <td>A video of England wicketkeeper-batsman Jos Bu...</td>\n",
       "    </tr>\n",
       "    <tr>\n",
       "      <th>4</th>\n",
       "      <td>http://www.inshorts.com/en/news/suryakumar-yad...</td>\n",
       "      <td>Anmol Sharma</td>\n",
       "      <td>Suryakumar Yadav likes a meme trolling Virat K...</td>\n",
       "      <td>Mumbai Indians batsman Suryakumar Yadav liked ...</td>\n",
       "    </tr>\n",
       "    <tr>\n",
       "      <th>...</th>\n",
       "      <td>...</td>\n",
       "      <td>...</td>\n",
       "      <td>...</td>\n",
       "      <td>...</td>\n",
       "    </tr>\n",
       "    <tr>\n",
       "      <th>13572</th>\n",
       "      <td>http://www.inshorts.com/en/news/spacex-complet...</td>\n",
       "      <td>Aishwarya</td>\n",
       "      <td>SpaceX completes its first polar orbit mission...</td>\n",
       "      <td>SpaceX completed its first polar orbit mission...</td>\n",
       "    </tr>\n",
       "    <tr>\n",
       "      <th>13573</th>\n",
       "      <td>http://www.inshorts.com/en/news/odisha-man-imp...</td>\n",
       "      <td>Sharangee Dutta</td>\n",
       "      <td>Odisha man impersonates Mumbai journo on socia...</td>\n",
       "      <td>A 45-year-old man was arrested in Odisha for a...</td>\n",
       "    </tr>\n",
       "    <tr>\n",
       "      <th>13574</th>\n",
       "      <td>http://www.inshorts.com/en/news/5-labourers-di...</td>\n",
       "      <td>Sharangee Dutta</td>\n",
       "      <td>5 labourers die as vehicle carrying them crash...</td>\n",
       "      <td>Five labourers were killed and 11 injured afte...</td>\n",
       "    </tr>\n",
       "    <tr>\n",
       "      <th>13575</th>\n",
       "      <td>http://www.inshorts.com/en/news/shinzo-abe-gre...</td>\n",
       "      <td>Shailesh</td>\n",
       "      <td>Shinzo Abe 'greatest' Prime Minister in Japan'...</td>\n",
       "      <td>US President Donald Trump called Shinzo Abe \"t...</td>\n",
       "    </tr>\n",
       "    <tr>\n",
       "      <th>13576</th>\n",
       "      <td>http://www.inshorts.com/en/news/dont-see-possi...</td>\n",
       "      <td>Rishabh Bhatnagar</td>\n",
       "      <td>Don't see possibility of stagflation going for...</td>\n",
       "      <td>Reserve Bank of India Governor Shaktikanta Das...</td>\n",
       "    </tr>\n",
       "  </tbody>\n",
       "</table>\n",
       "<p>13577 rows × 4 columns</p>\n",
       "</div>"
      ],
      "text/plain": [
       "                                            Article Link            Authors  \\\n",
       "0      http://www.inshorts.com/en/news/data-aspirants...       Roshan Gupta   \n",
       "1      http://www.inshorts.com/en/news/this-claim-is-...     Pragya Swastik   \n",
       "2      http://www.inshorts.com/en/news/house-to-house...      Jigyasu Joshi   \n",
       "3      http://www.inshorts.com/en/news/jos-buttlers-1...       Anmol Sharma   \n",
       "4      http://www.inshorts.com/en/news/suryakumar-yad...       Anmol Sharma   \n",
       "...                                                  ...                ...   \n",
       "13572  http://www.inshorts.com/en/news/spacex-complet...          Aishwarya   \n",
       "13573  http://www.inshorts.com/en/news/odisha-man-imp...    Sharangee Dutta   \n",
       "13574  http://www.inshorts.com/en/news/5-labourers-di...    Sharangee Dutta   \n",
       "13575  http://www.inshorts.com/en/news/shinzo-abe-gre...           Shailesh   \n",
       "13576  http://www.inshorts.com/en/news/dont-see-possi...  Rishabh Bhatnagar   \n",
       "\n",
       "                                                Headline  \\\n",
       "0      Data aspirants can start their learning journe...   \n",
       "1      'This claim is disputed' warning on Trump's tw...   \n",
       "2      House to house survey will be done in Delhi co...   \n",
       "3      Jos Buttler's 18-month-old daughter interrupts...   \n",
       "4      Suryakumar Yadav likes a meme trolling Virat K...   \n",
       "...                                                  ...   \n",
       "13572  SpaceX completes its first polar orbit mission...   \n",
       "13573  Odisha man impersonates Mumbai journo on socia...   \n",
       "13574  5 labourers die as vehicle carrying them crash...   \n",
       "13575  Shinzo Abe 'greatest' Prime Minister in Japan'...   \n",
       "13576  Don't see possibility of stagflation going for...   \n",
       "\n",
       "                                                Abstract  \n",
       "0      This festive season, online higher education c...  \n",
       "1      Twitter's 'This claim is disputed' warning on ...  \n",
       "2      NITI Aayog member VK Paul on Tuesday said hous...  \n",
       "3      A video of England wicketkeeper-batsman Jos Bu...  \n",
       "4      Mumbai Indians batsman Suryakumar Yadav liked ...  \n",
       "...                                                  ...  \n",
       "13572  SpaceX completed its first polar orbit mission...  \n",
       "13573  A 45-year-old man was arrested in Odisha for a...  \n",
       "13574  Five labourers were killed and 11 injured afte...  \n",
       "13575  US President Donald Trump called Shinzo Abe \"t...  \n",
       "13576  Reserve Bank of India Governor Shaktikanta Das...  \n",
       "\n",
       "[13577 rows x 4 columns]"
      ]
     },
     "execution_count": 37,
     "metadata": {},
     "output_type": "execute_result"
    }
   ],
   "source": [
    "all_articles_final"
   ]
  },
  {
   "cell_type": "code",
   "execution_count": 38,
   "metadata": {},
   "outputs": [],
   "source": [
    "#all_articles_final.rename(columns = {'0':'URL','1':'Headline','2':'Author', '0':'Abstract'}, inplace=True )"
   ]
  },
  {
   "cell_type": "code",
   "execution_count": 39,
   "metadata": {},
   "outputs": [],
   "source": [
    "#all_articles_final = all_articles_final.columns.astype(object)"
   ]
  },
  {
   "cell_type": "code",
   "execution_count": null,
   "metadata": {},
   "outputs": [],
   "source": [
    "#all_articles_final.rename(columns = {'0':'URL','1':'Headline','2':'Author', '0':'Abstract'}, inplace=True )"
   ]
  },
  {
   "cell_type": "code",
   "execution_count": 47,
   "metadata": {},
   "outputs": [
    {
     "ename": "AttributeError",
     "evalue": "'Index' object has no attribute 'to_excel'",
     "output_type": "error",
     "traceback": [
      "\u001b[1;31m---------------------------------------------------------------------------\u001b[0m",
      "\u001b[1;31mAttributeError\u001b[0m                            Traceback (most recent call last)",
      "\u001b[1;32m<ipython-input-47-157f3c94a831>\u001b[0m in \u001b[0;36m<module>\u001b[1;34m\u001b[0m\n\u001b[0;32m      1\u001b[0m \u001b[0mwriter\u001b[0m \u001b[1;33m=\u001b[0m \u001b[0mpd\u001b[0m\u001b[1;33m.\u001b[0m\u001b[0mExcelWriter\u001b[0m\u001b[1;33m(\u001b[0m\u001b[1;34m\"Article_list.xlsx\"\u001b[0m\u001b[1;33m)\u001b[0m\u001b[1;33m\u001b[0m\u001b[1;33m\u001b[0m\u001b[0m\n\u001b[1;32m----> 2\u001b[1;33m \u001b[0mall_articles_final\u001b[0m\u001b[1;33m.\u001b[0m\u001b[0mto_excel\u001b[0m\u001b[1;33m(\u001b[0m\u001b[0mwriter\u001b[0m\u001b[1;33m,\u001b[0m \u001b[0mindex\u001b[0m\u001b[1;33m=\u001b[0m\u001b[1;32mFalse\u001b[0m\u001b[1;33m)\u001b[0m\u001b[1;33m\u001b[0m\u001b[1;33m\u001b[0m\u001b[0m\n\u001b[0m\u001b[0;32m      3\u001b[0m \u001b[0mwriter\u001b[0m\u001b[1;33m.\u001b[0m\u001b[0msave\u001b[0m\u001b[1;33m(\u001b[0m\u001b[1;33m)\u001b[0m\u001b[1;33m\u001b[0m\u001b[1;33m\u001b[0m\u001b[0m\n\u001b[0;32m      4\u001b[0m \u001b[0mwriter\u001b[0m\u001b[1;33m.\u001b[0m\u001b[0mclose\u001b[0m\u001b[1;33m(\u001b[0m\u001b[1;33m)\u001b[0m\u001b[1;33m\u001b[0m\u001b[1;33m\u001b[0m\u001b[0m\n",
      "\u001b[1;31mAttributeError\u001b[0m: 'Index' object has no attribute 'to_excel'"
     ]
    }
   ],
   "source": [
    "FileWriter writecsv = new FileWriter (“C:\\Users\\jayme\\Desktop/Article_list.csv”)"
   ]
  },
  {
   "cell_type": "code",
   "execution_count": 42,
   "metadata": {},
   "outputs": [
    {
     "ename": "AttributeError",
     "evalue": "'Index' object has no attribute 'to_csv'",
     "output_type": "error",
     "traceback": [
      "\u001b[1;31m---------------------------------------------------------------------------\u001b[0m",
      "\u001b[1;31mAttributeError\u001b[0m                            Traceback (most recent call last)",
      "\u001b[1;32m<ipython-input-42-da95f6db2ad2>\u001b[0m in \u001b[0;36m<module>\u001b[1;34m\u001b[0m\n\u001b[1;32m----> 1\u001b[1;33m \u001b[0mall_articles_final\u001b[0m\u001b[1;33m.\u001b[0m\u001b[0mto_csv\u001b[0m\u001b[1;33m(\u001b[0m\u001b[1;34m'Article_list'\u001b[0m\u001b[1;33m,\u001b[0m \u001b[0mindex\u001b[0m\u001b[1;33m=\u001b[0m\u001b[1;32mTrue\u001b[0m\u001b[1;33m)\u001b[0m\u001b[1;33m\u001b[0m\u001b[1;33m\u001b[0m\u001b[0m\n\u001b[0m",
      "\u001b[1;31mAttributeError\u001b[0m: 'Index' object has no attribute 'to_csv'"
     ]
    }
   ],
   "source": [
    "all_articles_final.to_csv('Article_list', index=True)"
   ]
  },
  {
   "cell_type": "code",
   "execution_count": null,
   "metadata": {},
   "outputs": [],
   "source": [
    "#df.to_csv('Midterm.csv', index=False)"
   ]
  }
 ],
 "metadata": {
  "kernelspec": {
   "display_name": "Python 3",
   "language": "python",
   "name": "python3"
  },
  "language_info": {
   "codemirror_mode": {
    "name": "ipython",
    "version": 3
   },
   "file_extension": ".py",
   "mimetype": "text/x-python",
   "name": "python",
   "nbconvert_exporter": "python",
   "pygments_lexer": "ipython3",
   "version": "3.7.6"
  }
 },
 "nbformat": 4,
 "nbformat_minor": 4
}
